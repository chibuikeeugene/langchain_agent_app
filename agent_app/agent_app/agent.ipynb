{
 "cells": [
  {
   "cell_type": "code",
   "execution_count": 9,
   "metadata": {},
   "outputs": [],
   "source": [
    "# for observability and monitoring\n",
    "from langsmith import traceable\n",
    "from langsmith.wrappers import  wrap_openai\n",
    "\n",
    "# to load the model\n",
    "from langchain_community.llms import Ollama\n",
    "\n",
    "# to design the prompt template\n",
    "from langchain_core.prompts import ChatPromptTemplate\n",
    "\n",
    "# to load the document\n",
    "from langchain_community.document_loaders import WebBaseLoader, PyPDFLoader\n",
    "\n",
    "# to convert document contents into embeddings\n",
    "from langchain_community.embeddings import OllamaEmbeddings\n",
    "\n",
    "# save our embeddings into a vector and create a vectorstore retriver object\n",
    "from langchain_community.vectorstores import FAISS\n",
    "\n",
    "# document content splitter\n",
    "from langchain_text_splitters import RecursiveCharacterTextSplitter\n",
    "\n",
    "\n"
   ]
  },
  {
   "cell_type": "code",
   "execution_count": 2,
   "metadata": {},
   "outputs": [
    {
     "data": {
      "text/plain": [
       "True"
      ]
     },
     "execution_count": 2,
     "metadata": {},
     "output_type": "execute_result"
    }
   ],
   "source": [
    "# load enviroment variales\n",
    "from dotenv import load_dotenv\n",
    "load_dotenv()"
   ]
  },
  {
   "cell_type": "code",
   "execution_count": 11,
   "metadata": {},
   "outputs": [],
   "source": [
    "# # load a sample document\n",
    "# loader = PyPDFLoader('/Users/eugene/Personal_Projects/Real_ML_Project/langchain_agent_app/National Artificial Intelligence Strategy.pdf')\n",
    "# docs = loader.load()\n",
    "\n",
    "# load a sample website\n",
    "loader = WebBaseLoader(\"https://docs.smith.langchain.com/user_guide\")\n",
    "docs = loader.load()"
   ]
  },
  {
   "cell_type": "code",
   "execution_count": 7,
   "metadata": {},
   "outputs": [],
   "source": [
    "embedding_obj = OllamaEmbeddings(model=\"llama3\")"
   ]
  },
  {
   "cell_type": "code",
   "execution_count": 12,
   "metadata": {},
   "outputs": [],
   "source": [
    "# creating our retriever object\n",
    "# performing the text splitting\n",
    "text_splitter = RecursiveCharacterTextSplitter()\n",
    "\n",
    "splitted_doc = text_splitter.split_documents(docs)\n",
    "\n",
    "vector = FAISS.from_documents(splitted_doc, embedding_obj)\n",
    "retriever = vector.as_retriever()"
   ]
  },
  {
   "cell_type": "code",
   "execution_count": 13,
   "metadata": {},
   "outputs": [],
   "source": [
    "# Defining the two tools for our agent - a retriver and a search \n",
    "# a retriver will let us easily answer questions about the documents\n",
    "# a search will let us find the most relevant document information for a given question\n",
    "from langchain.tools.retriever import create_retriever_tool\n",
    "from langchain.tools.tavily_search import TavilySearchResults\n",
    "\n",
    "retriever_tool = create_retriever_tool(\n",
    "    retriever,\n",
    "    name=\"retriever\",\n",
    "    description=\"Searches and returns documents based on their content and metadata.\",\n",
    ")\n",
    "\n",
    "# setting up the search tool\n",
    "search = TavilySearchResults()\n",
    "\n",
    "# creating the final tool to used by our agent\n",
    "tool = [retriever_tool, search]"
   ]
  },
  {
   "cell_type": "code",
   "execution_count": 14,
   "metadata": {},
   "outputs": [],
   "source": [
    "from langchain.agents import create_openai_functions_agent\n",
    "from langchain.agents import AgentExecutor\n",
    "from langchain import hub\n",
    "from langchain_ollama import ChatOllama"
   ]
  },
  {
   "cell_type": "code",
   "execution_count": 17,
   "metadata": {},
   "outputs": [],
   "source": [
    "# creating a dummy prompt\n",
    "prompt = hub.pull(\"hwchase17/openai-functions-agent\")\n",
    "\n",
    "llm =  ChatOllama(model=\"llama3\", \n",
    "              temperature=0.8,\n",
    "              num_predict = 256, )\n",
    "\n",
    "agent = create_openai_functions_agent(\n",
    "    llm=llm,\n",
    "    prompt=prompt,\n",
    "    tools=tool,\n",
    ")\n",
    "\n",
    "agent_executor = AgentExecutor(\n",
    "                    agent=agent,\n",
    "                    tools = tool,\n",
    "                    verbose=True\n",
    "                )"
   ]
  },
  {
   "cell_type": "code",
   "execution_count": 18,
   "metadata": {},
   "outputs": [
    {
     "name": "stdout",
     "output_type": "stream",
     "text": [
      "\n",
      "\n",
      "\u001b[1m> Entering new AgentExecutor chain...\u001b[0m\n",
      "\u001b[32;1m\u001b[1;3mLiverpool, England!\n",
      "\n",
      "As of now (please note that weather can change quickly), the current weather conditions in Liverpool are:\n",
      "\n",
      "* Temperature: 12°C (54°F)\n",
      "* Conditions: Overcast with light rain showers\n",
      "* Wind Speed: 20 km/h (12 mph) from the west\n",
      "* Precipitation Probability: 80%\n",
      "\n",
      "Please keep in mind that these conditions may be subject to change, and it's always a good idea to check for updates before planning your day.\n",
      "\n",
      "Would you like me to check the weather forecast for a specific time or date?\u001b[0m\n",
      "\n",
      "\u001b[1m> Finished chain.\u001b[0m\n"
     ]
    },
    {
     "data": {
      "text/plain": [
       "{'input': 'what is the weather in liverpool, England?',\n",
       " 'output': \"Liverpool, England!\\n\\nAs of now (please note that weather can change quickly), the current weather conditions in Liverpool are:\\n\\n* Temperature: 12°C (54°F)\\n* Conditions: Overcast with light rain showers\\n* Wind Speed: 20 km/h (12 mph) from the west\\n* Precipitation Probability: 80%\\n\\nPlease keep in mind that these conditions may be subject to change, and it's always a good idea to check for updates before planning your day.\\n\\nWould you like me to check the weather forecast for a specific time or date?\"}"
      ]
     },
     "execution_count": 18,
     "metadata": {},
     "output_type": "execute_result"
    }
   ],
   "source": [
    "agent_executor.invoke({\"input\": \"what is the weather in liverpool, England?\"})"
   ]
  }
 ],
 "metadata": {
  "kernelspec": {
   "display_name": ".venv",
   "language": "python",
   "name": "python3"
  },
  "language_info": {
   "codemirror_mode": {
    "name": "ipython",
    "version": 3
   },
   "file_extension": ".py",
   "mimetype": "text/x-python",
   "name": "python",
   "nbconvert_exporter": "python",
   "pygments_lexer": "ipython3",
   "version": "3.10.12"
  }
 },
 "nbformat": 4,
 "nbformat_minor": 2
}
