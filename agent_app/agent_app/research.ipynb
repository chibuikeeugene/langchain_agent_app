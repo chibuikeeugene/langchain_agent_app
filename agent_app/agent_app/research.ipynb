{
 "cells": [
  {
   "cell_type": "code",
   "execution_count": 1,
   "metadata": {},
   "outputs": [],
   "source": [
    "# for observability and monitoring\n",
    "from langsmith import traceable\n",
    "\n",
    "# to load the model\n",
    "from langchain_community.llms import Ollama\n",
    "\n",
    "# to design the prompt template\n",
    "from langchain_core.prompts import ChatPromptTemplate\n",
    "\n",
    "# to load the document\n",
    "from langchain_community.document_loaders import WebBaseLoader, PyPDFLoader, DirectoryLoader\n",
    "\n",
    "# to convert document contents into embeddings\n",
    "from langchain_community.embeddings import OllamaEmbeddings\n",
    "\n",
    "# document content splitter\n",
    "from langchain_text_splitters import RecursiveCharacterTextSplitter\n",
    "\n",
    "\n"
   ]
  },
  {
   "cell_type": "code",
   "execution_count": 2,
   "metadata": {},
   "outputs": [],
   "source": [
    "import os"
   ]
  },
  {
   "cell_type": "code",
   "execution_count": 3,
   "metadata": {},
   "outputs": [
    {
     "data": {
      "text/plain": [
       "True"
      ]
     },
     "execution_count": 3,
     "metadata": {},
     "output_type": "execute_result"
    }
   ],
   "source": [
    "# load enviroment variales\n",
    "from dotenv import load_dotenv\n",
    "load_dotenv()"
   ]
  },
  {
   "cell_type": "code",
   "execution_count": 4,
   "metadata": {},
   "outputs": [
    {
     "name": "stderr",
     "output_type": "stream",
     "text": [
      "  0%|          | 0/1 [00:00<?, ?it/s]/Users/eugene/Personal_Projects/Real_ML_Project/langchain_agent_app/.venv/lib/python3.10/site-packages/tqdm/auto.py:21: TqdmWarning: IProgress not found. Please update jupyter and ipywidgets. See https://ipywidgets.readthedocs.io/en/stable/user_install.html\n",
      "  from .autonotebook import tqdm as notebook_tqdm\n",
      "100%|██████████| 1/1 [00:09<00:00,  9.79s/it]\n"
     ]
    }
   ],
   "source": [
    "# load a sample document from local file system\n",
    "loader = DirectoryLoader('/Users/eugene/Personal_Projects/Real_ML_Project/langchain_agent_app/files/',\n",
    "                         show_progress = True,\n",
    "                         sample_size = 1,\n",
    "                         use_multithreading = True)\n",
    "docs = loader.load()"
   ]
  },
  {
   "cell_type": "code",
   "execution_count": 5,
   "metadata": {},
   "outputs": [
    {
     "data": {
      "text/plain": [
       "[Document(metadata={'source': '/Users/eugene/Personal_Projects/Real_ML_Project/langchain_agent_app/files/National Artificial Intelligence Strategy (abridged version).pdf'}, page_content=\"Executive Summary The advent of Artificial Intelligence (AI) has precipitated a paradigmatic shift in global innovation and transformation, driving cutting-edge advancements across nations and industries. The ramifications of its impact on the global ecosystem and specifically on the developmental trajectory of Nigeria and other African nations are profound and far-reaching. Nigeria, as the continent's most populous country, is singularly positioned to harness AI's transformative capacity to address pressing socio-economic problems, accelerate economic growth, and pivot the nation into a new epoch of technological empowerment, which unlocks unprecedented opportunities for sustainable development, economic prosperity, and human flourishing. Nigeria’s National AI Strategy (NAIS) sets a path to achieve the vision “to be a global leader in harnessing the transformative power of AI through responsible, ethical, and inclusive innovation, fostering sustainable development through collaborative e\\u2000orts.”\\n\\nVision and Guiding Principles 1.2.1. Vision Statement “Our vision is to be a global leader in harnessing the transformative power of AI through responsible, ethical, and inclusive innovation, fostering sustainable development through collaborative efforts.”\\n\\nStrategic Objectives 1.3.1. Aims and Objectives Considering Nigeria’s strengths, weaknesses, opportunities, and threats, this National AI strategy has three broad objectives for leveraging AI. First is using AI as a tool for economic growth and competitiveness; second, for social development and inclusion; and third, for technological advancement and leadership. The sub-goals are enumerated below:\\n\\nEconomic Growth and Competitiveness\\n\\n1. Boost economic productivity: Enhance efficiency and innovation across agriculture, manufacturing, and services\\n\\nsectors.\\n\\n2. Create new industries and jobs: Fostering the development of AI-driven industries and upskilling the workforce for\\n\\nnew opportunities.\\n\\n3. Attract foreign investment: Positioning Nigeria as a leader in responsible AI development, attracting investment\\n\\nand collaboration.\\n\\nSocial Development and Inclusion\\n\\n1.\\n\\nImprove access to essential services: Utilising AI to enhance healthcare delivery, education, and financial inclusion for all Nigerians.\\n\\n2. Address social challenges: Leveraging AI to tackle such as poverty, inequality, and climate change. 3. Empower citizens: Equipping individuals with the skills and knowledge necessary to participate actively in the AI-driven future.\\n\\nTechnological Advancement and Leadership\\n\\n1. Develop indigenous AI expertise: Building a strong research and development ecosystem to foster innovation and\\n\\nlocal solutions.\\n\\n2. Establish ethical and regulatory frameworks: Ensuring responsible and transparent development and deployment\\n\\nof AI.\\n\\n3. Become a regional and global leader: Positioning Nigeria as a key player in the global AI landscape.\\n\\nRisks and Mitigation Strategies 1.6.1. AI Risks and Mitigation Strategies 1.6.1.1. Introduction\\n\\nArtificial Intelligence (AI) is on the cusp of revolutionizing business, governance, and the pursuit of social welfare, with transformative implications for education, healthcare, and the mitigation of pressing global challenges such as climate change, poverty, and hunger. Nevertheless, the rapid advancement of AI has generated concerns regarding its potential pitfalls, and rightly so, as the unintended consequences of emerging technologies are a historical inevitability. Therefore, developing national AI strategies must prioritise leveraging country-specific strengths and opportunities while concurrently and proactively addressing potential risks through thorough assessment, anticipation, and mitigation measures.\\n\\nThis is not an insignificant undertaking. Government leaders are confronted with a profound paradox as they strive to leverage AI at scale while simultaneously fulfilling their responsibility to safeguard citizens' interests and harness Artificial Intelligence (AI) for the greater good. This dichotomy necessitates a delicate balance between fostering innovation and exercising control over the far-reaching societal implications of emerging technologies. To enable their global clients to leverage AI for competitive advantage, PwC has identified crucial tradeo\\u2000s that governments must navigate in conjunction with businesses, consumer advocacy groups, and international organisations, associated with AI adoption at both the business and national levels (66).\\n\\nin addition to articulating six critical risks\\n\\nPwC characterises a grouping of job risks as “National-Level,” these are risks that displacement, loss of institutional knowledge), ethical risks (e.g., lack of values, goal misalignment), and societal risks (e.g., reputation, intelligence divide.) The National-Level risks are far-reaching and impact the socio-economic environment in which AI systems operate. These are issues that need to be resolved at the national, supranational, or societal level across the globe (66). Potential harms of poorly implemented AI systems, including misleading models, bias, and vulnerability to adversarial actors, are an additional risk area that has already manifested since generative AI made its mark on the global stage last year. Drivers behind substandard outcomes include the brittleness of current systems, making them easy to mislead and manipulate with variations in input, and shifts in dataset characteristics over time that threaten model reliability, thus leading to unintended consequences (67)\\n\\ninclude economic risks (e.g.,\\n\\nSWOT Descriptors\\n\\nStrengths\\n\\nRationale\\n\\nA large and youthful talent pool\\n\\nNigeria's population of over 200 million, with 75% in the working age bracket represents a significant talent pool for AI development and adoption. This young demographic is often tech-savvy and eager to learn new skills, providing a strong foundation for AI human capital development. Strong economic performance\\n\\nStrong economic performance\\n\\nNigeria's position as Africa's largest economy, with a nominal GDP of $477.39 billion, signifies a robust financial base. This economic strength can translate into resources for investment in AI research, development, and infrastructure, fuelling the growth of the AI ecosystem.\\n\\nWeakness\\n\\nRationale\\n\\nHigh and unstable inflation\\n\\nNigeria's current high inflation rate (26.72% in September 2023) creates significant economic uncertainty. This discourages long-term investments, a crucial factor for developing a sustainable AI ecosystem. Investors become hesitant to commit resources to AI projects with potentially long payback periods due to the risk of inflation eroding returns.\\n\\nReduced consumer spending power\\n\\nAs inflation increases, the purchasing power of Nigerian citizens shrinks. This can lead to decreased demand for AI-powered products and\\n\\nOpportunity\\n\\nKnowledge sharing\\n\\nFunding and investment\\n\\nThreats\\n\\nResistance to AI due to feared Job loss/Bias\\n\\nBrain drain and capital flight\\n\\nservices, hindering the potential market growth needed to support a thriving AI industry. Consumers may prioritise necessities over adopting new technologies.\\n\\nRationale\\n\\nPartner with leading AI nations (e.g., China's Belt and Road Initiative) to facilitate knowledge exchange through joint research projects, student exchange programs, and technology transfer agreements.\\n\\nCollaborate with development institutions (e.g., African Development Bank) and explore funding opportunities for AI research, infrastructure development, and startup incubation. This can accelerate the growth of a robust AI ecosystem.\\n\\nRationale\\n\\nWorkforce reduction and inherent bias due to AI uptake can pose resistance to adopting Artificial Intelligence. The result will be an increased unemployment rate and social inequality.\\n\\nWhile international migration can generate valuable remittance inflows, it presents a significant challenge to Nigeria's AI development. The mass exodus of skilled labour weakens the talent pool necessary for developing and deploying AI solutions.\")]"
      ]
     },
     "execution_count": 5,
     "metadata": {},
     "output_type": "execute_result"
    }
   ],
   "source": [
    "# visualize the contents of our document\n",
    "docs[0:5]"
   ]
  },
  {
   "cell_type": "code",
   "execution_count": 7,
   "metadata": {},
   "outputs": [],
   "source": [
    "# create embedding object to be used in converting our document contents to vector embeddings\n",
    "embedding_obj = OllamaEmbeddings(model=\"llama3\")"
   ]
  },
  {
   "cell_type": "code",
   "execution_count": 8,
   "metadata": {},
   "outputs": [],
   "source": [
    "# performing the text splitting\n",
    "text_splitter = RecursiveCharacterTextSplitter(\n",
    "    chunk_size=500, chunk_overlap=100\n",
    ")\n",
    "\n",
    "splitted_doc = text_splitter.split_documents(docs)"
   ]
  },
  {
   "cell_type": "code",
   "execution_count": 10,
   "metadata": {},
   "outputs": [],
   "source": [
    "from langchain_qdrant import QdrantVectorStore\n",
    "from qdrant_client import QdrantClient\n",
    "from qdrant_client.http.models import Distance, VectorParams"
   ]
  },
  {
   "cell_type": "code",
   "execution_count": 11,
   "metadata": {},
   "outputs": [
    {
     "data": {
      "text/plain": [
       "True"
      ]
     },
     "execution_count": 11,
     "metadata": {},
     "output_type": "execute_result"
    }
   ],
   "source": [
    "# retrieve api key and cluster url for our qdrant vector database\n",
    "api_key  = os.getenv(\"QDRANT_API_KEY\")\n",
    "url = os.getenv(\"QDRANT_CLOUD_CLUSTER_URL\")\n",
    "\n",
    "#setup qdrant client and collection objects\n",
    "\n",
    "client = QdrantClient(\n",
    "    url=url,\n",
    "    prefer_grpc=True,\n",
    "    api_key=api_key,\n",
    ")\n",
    "\n",
    "client.create_collection(\n",
    "    collection_name=\"my_documents\",\n",
    "    vectors_config=VectorParams(size=4096, distance=Distance.COSINE),\n",
    ")"
   ]
  },
  {
   "cell_type": "code",
   "execution_count": 12,
   "metadata": {},
   "outputs": [],
   "source": [
    "# creating the vector store object\n",
    "vector_store = QdrantVectorStore(\n",
    "    client = client,\n",
    "    collection_name = \"my_documents\",\n",
    "    embedding=embedding_obj,\n",
    ")"
   ]
  },
  {
   "cell_type": "code",
   "execution_count": 13,
   "metadata": {},
   "outputs": [
    {
     "data": {
      "text/plain": [
       "['f49b215f5ca343fbaa64637a3410a46d',\n",
       " 'ad623773dd604ba1912d1c4930eb3b09',\n",
       " '4b3918af3d17465682b59b650608ac9a',\n",
       " '5810235f50134ed4a0f7769e6b315485',\n",
       " '3e0bb7cf271d445e9e06129c380341fc',\n",
       " 'bc6c50039de342698b83ff006a8f5c54',\n",
       " 'a01a7b6ef4f54b6d82e071664a2be07e',\n",
       " '7e2ecb45042f4a0eb664008a884a647f',\n",
       " '6abcc17558e84420a5ca8dce9806f662',\n",
       " '963ee48f89e8479d92fe2ee2342f7f1d',\n",
       " '361dc59539aa495bbb1e4a02bcb63d2b',\n",
       " 'b90595316ae5464b9a58d49bcacb6b69',\n",
       " '2e2c940fb31e45d082033b2e92a8d63a',\n",
       " '54c8427b558c462fbd083f3c2678c363',\n",
       " '9402cda231da411fb015d22678b76f99',\n",
       " '829c829d9616457b834b5105d5c75f04',\n",
       " 'e223f8012f9c4a6187f0953496b37c98',\n",
       " '71561522537647a6b74511fa039d6434',\n",
       " '65998eb774ca47fe8a41ac892a0fcea8',\n",
       " 'd905b7d82dd5467ba0003e19aec5deb4',\n",
       " '41d9db8bbe6e4d3389d07aa359b2dce4',\n",
       " '774b2af8ecfd48c3bd792ca48c2d80df']"
      ]
     },
     "execution_count": 13,
     "metadata": {},
     "output_type": "execute_result"
    }
   ],
   "source": [
    "# upload our document to the vectorstore\n",
    "vector_store.add_documents(splitted_doc)"
   ]
  },
  {
   "cell_type": "code",
   "execution_count": 14,
   "metadata": {},
   "outputs": [],
   "source": [
    "# we write a query which essentially is a question directed at the vetore store while utlizing its similarity search to retrieve response\n",
    "query = 'summarize the document key points'\n",
    "response = vector_store.similarity_search_with_score(query)"
   ]
  },
  {
   "cell_type": "code",
   "execution_count": 15,
   "metadata": {},
   "outputs": [
    {
     "data": {
      "text/plain": [
       "[(Document(metadata={'source': '/Users/eugene/Personal_Projects/Real_ML_Project/langchain_agent_app/files/National Artificial Intelligence Strategy (abridged version).pdf', '_id': 'd905b7d8-2dd5-467b-a000-3e19aec5deb4', '_collection_name': 'my_documents'}, page_content='Reduced consumer spending power\\n\\nAs inflation increases, the purchasing power of Nigerian citizens shrinks. This can lead to decreased demand for AI-powered products and\\n\\nOpportunity\\n\\nKnowledge sharing\\n\\nFunding and investment\\n\\nThreats\\n\\nResistance to AI due to feared Job loss/Bias\\n\\nBrain drain and capital flight\\n\\nservices, hindering the potential market growth needed to support a thriving AI industry. Consumers may prioritise necessities over adopting new technologies.\\n\\nRationale'),\n",
       "  0.5951718091964722),\n",
       " (Document(metadata={'source': '/Users/eugene/Personal_Projects/Real_ML_Project/langchain_agent_app/files/National Artificial Intelligence Strategy (abridged version).pdf', '_id': '41d9db8b-be6e-4d33-89d0-7aa359b2dce4', '_collection_name': 'my_documents'}, page_content=\"Rationale\\n\\nPartner with leading AI nations (e.g., China's Belt and Road Initiative) to facilitate knowledge exchange through joint research projects, student exchange programs, and technology transfer agreements.\\n\\nCollaborate with development institutions (e.g., African Development Bank) and explore funding opportunities for AI research, infrastructure development, and startup incubation. This can accelerate the growth of a robust AI ecosystem.\\n\\nRationale\"),\n",
       "  0.5927853584289551),\n",
       " (Document(metadata={'source': '/Users/eugene/Personal_Projects/Real_ML_Project/langchain_agent_app/files/National Artificial Intelligence Strategy (abridged version).pdf', '_id': '4b3918af-3d17-4656-82b5-9b650608ac9a', '_collection_name': 'my_documents'}, page_content='to achieve the vision “to be a global leader in harnessing the transformative power of AI through responsible, ethical, and inclusive innovation, fostering sustainable development through collaborative e\\u2000orts.”'),\n",
       "  0.5593069195747375),\n",
       " (Document(metadata={'source': '/Users/eugene/Personal_Projects/Real_ML_Project/langchain_agent_app/files/National Artificial Intelligence Strategy (abridged version).pdf', '_id': '5810235f-5013-4ed4-a0f7-769e6b315485', '_collection_name': 'my_documents'}, page_content='Vision and Guiding Principles 1.2.1. Vision Statement “Our vision is to be a global leader in harnessing the transformative power of AI through responsible, ethical, and inclusive innovation, fostering sustainable development through collaborative efforts.”'),\n",
       "  0.5540838241577148)]"
      ]
     },
     "execution_count": 15,
     "metadata": {},
     "output_type": "execute_result"
    }
   ],
   "source": [
    "response"
   ]
  },
  {
   "cell_type": "code",
   "execution_count": 16,
   "metadata": {},
   "outputs": [
    {
     "name": "stdout",
     "output_type": "stream",
     "text": [
      "Answer: Reduced consumer spending power\n",
      "\n",
      "As inflation increases, the purchasing power of Nigerian citizens shrinks. This can lead to decreased demand for AI-powered products and\n",
      "\n",
      "Opportunity\n",
      "\n",
      "Knowledge sharing\n",
      "\n",
      "Funding and investment\n",
      "\n",
      "Threats\n",
      "\n",
      "Resistance to AI due to feared Job loss/Bias\n",
      "\n",
      "Brain drain and capital flight\n",
      "\n",
      "services, hindering the potential market growth needed to support a thriving AI industry. Consumers may prioritise necessities over adopting new technologies.\n",
      "\n",
      "Rationale\n",
      "Relevance Score: 0.5951718091964722\n"
     ]
    }
   ],
   "source": [
    "answer, score = response[0]\n",
    "print(f\"Answer: {answer.page_content}\")\n",
    "print(f\"Relevance Score: {score}\")"
   ]
  },
  {
   "cell_type": "code",
   "execution_count": 17,
   "metadata": {},
   "outputs": [],
   "source": [
    "# converting the qrant vectorstore to a retriever object\n",
    "retriever = vector_store.as_retriever()"
   ]
  },
  {
   "cell_type": "code",
   "execution_count": 18,
   "metadata": {},
   "outputs": [],
   "source": [
    "# Defining the two tools for our agent - a retriever and a search \n",
    "# a retriver will let us easily answer questions about the documents\n",
    "# a search will let us find the most relevant document information for a given question\n",
    "from langchain.tools.retriever import create_retriever_tool\n",
    "from langchain.tools.tavily_search import TavilySearchResults\n",
    "\n",
    "retriever_tool = create_retriever_tool(\n",
    "    retriever,\n",
    "    name=\"retriever\",\n",
    "    description=\"Searches and returns documents based on their content and metadata.\",\n",
    ")\n",
    "\n",
    "# setting up the search tool\n",
    "search = TavilySearchResults()\n",
    "\n",
    "# creating the final tool to used by our agent\n",
    "tool = [retriever_tool, search]"
   ]
  },
  {
   "cell_type": "code",
   "execution_count": 23,
   "metadata": {},
   "outputs": [],
   "source": [
    "from langchain.agents import create_openai_functions_agent\n",
    "from langchain.agents import AgentExecutor\n",
    "from langchain import hub\n",
    "from langchain_ollama import ChatOllama\n",
    "from langchain_core.prompts import ChatPromptTemplate, MessagesPlaceholder"
   ]
  },
  {
   "cell_type": "code",
   "execution_count": 29,
   "metadata": {},
   "outputs": [],
   "source": [
    "# creating a dummy prompt\n",
    "prompt = ChatPromptTemplate.from_messages(\n",
    "    [\n",
    "        MessagesPlaceholder(\"chat_history\", optional=True),\n",
    "        (\"human\", \"{input}\"),\n",
    "        MessagesPlaceholder(\"agent_scratchpad\"),\n",
    "]\n",
    ")\n",
    "\n",
    "llm =  ChatOllama(model=\"llama3\", \n",
    "              temperature=0.8,\n",
    "              num_predict = 256, )\n",
    "\n",
    "agent = create_openai_functions_agent(\n",
    "    llm=llm,\n",
    "    prompt=prompt,\n",
    "    tools=tool,\n",
    ")\n",
    "\n",
    "agent_executor = AgentExecutor(\n",
    "                    agent=agent,\n",
    "                    tools = tool,\n",
    "                    verbose=True\n",
    "                )"
   ]
  },
  {
   "cell_type": "code",
   "execution_count": 25,
   "metadata": {},
   "outputs": [
    {
     "name": "stdout",
     "output_type": "stream",
     "text": [
      "\n",
      "\n",
      "\u001b[1m> Entering new AgentExecutor chain...\u001b[0m\n",
      "\u001b[32;1m\u001b[1;3mAs the Executive Secretary to the Minister of Information Technology, I've reviewed the latest document from the Ministry's policy department. The key points are as follows:\n",
      "\n",
      "**Document:** \"National Digital Inclusion Strategy 2023-2025\"\n",
      "\n",
      "**Key Points:**\n",
      "\n",
      "1. **Objective:** To bridge the digital divide and ensure universal access to information technology across the nation.\n",
      "2. **Target Audience:** Focus on marginalized communities, including rural populations, persons with disabilities, and low-income households.\n",
      "3. **Strategies:**\n",
      "\t* Establish a network of community-based digital centers for training and internet access.\n",
      "\t* Develop inclusive digital content and applications that cater to diverse user needs.\n",
      "\t* Implement affordable internet plans and promote digital literacy programs.\n",
      "4. **Digital Infrastructure:**\n",
      "\t* Upgrade existing national backbone infrastructure to support high-speed connectivity.\n",
      "\t* Expand fiber-optic networks to underserved areas, focusing on rural regions.\n",
      "5. **Cybersecurity:** Strengthen online security measures to protect users' personal data and prevent cyber-attacks.\n",
      "6. **Partnerships:** Collaborate with private sector companies, NGOs, and government agencies to achieve strategic objectives.\n",
      "7. **Budget Allocation:** Allocate a significant portion of the ministry's budget to support digital inclusion initiatives, with specific funding\u001b[0m\n",
      "\n",
      "\u001b[1m> Finished chain.\u001b[0m\n"
     ]
    },
    {
     "data": {
      "text/plain": [
       "{'input': 'summarize the document key points',\n",
       " 'output': 'As the Executive Secretary to the Minister of Information Technology, I\\'ve reviewed the latest document from the Ministry\\'s policy department. The key points are as follows:\\n\\n**Document:** \"National Digital Inclusion Strategy 2023-2025\"\\n\\n**Key Points:**\\n\\n1. **Objective:** To bridge the digital divide and ensure universal access to information technology across the nation.\\n2. **Target Audience:** Focus on marginalized communities, including rural populations, persons with disabilities, and low-income households.\\n3. **Strategies:**\\n\\t* Establish a network of community-based digital centers for training and internet access.\\n\\t* Develop inclusive digital content and applications that cater to diverse user needs.\\n\\t* Implement affordable internet plans and promote digital literacy programs.\\n4. **Digital Infrastructure:**\\n\\t* Upgrade existing national backbone infrastructure to support high-speed connectivity.\\n\\t* Expand fiber-optic networks to underserved areas, focusing on rural regions.\\n5. **Cybersecurity:** Strengthen online security measures to protect users\\' personal data and prevent cyber-attacks.\\n6. **Partnerships:** Collaborate with private sector companies, NGOs, and government agencies to achieve strategic objectives.\\n7. **Budget Allocation:** Allocate a significant portion of the ministry\\'s budget to support digital inclusion initiatives, with specific funding'}"
      ]
     },
     "execution_count": 25,
     "metadata": {},
     "output_type": "execute_result"
    }
   ],
   "source": [
    "agent_executor.invoke({\"input\": 'summarize the document key points'})"
   ]
  }
 ],
 "metadata": {
  "kernelspec": {
   "display_name": ".venv",
   "language": "python",
   "name": "python3"
  },
  "language_info": {
   "codemirror_mode": {
    "name": "ipython",
    "version": 3
   },
   "file_extension": ".py",
   "mimetype": "text/x-python",
   "name": "python",
   "nbconvert_exporter": "python",
   "pygments_lexer": "ipython3",
   "version": "3.10.12"
  }
 },
 "nbformat": 4,
 "nbformat_minor": 2
}
